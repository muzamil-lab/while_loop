{
 "cells": [
  {
   "cell_type": "code",
   "execution_count": 14,
   "id": "298c5e9a",
   "metadata": {
    "scrolled": true
   },
   "outputs": [
    {
     "name": "stdout",
     "output_type": "stream",
     "text": [
      "this statement is valid\n"
     ]
    }
   ],
   "source": [
    "a = 10\n",
    "b = 20\n",
    "if a==10 and b==20:\n",
    "    print(\"this statement is valid\")\n",
    "elif a==10 and b<=20:\n",
    "    print(\"this statemnet is valid inside elif\")\n",
    "else :\n",
    "    print(\"this statement is not valid\")"
   ]
  },
  {
   "cell_type": "markdown",
   "id": "7eec17c9",
   "metadata": {},
   "source": [
    "# AND Operation\n",
    "A B S\n",
    "0 0 0\n",
    "0 1 0\n",
    "1 0 0\n",
    "1 1 1"
   ]
  },
  {
   "cell_type": "code",
   "execution_count": 17,
   "id": "9c6bc77b",
   "metadata": {},
   "outputs": [
    {
     "data": {
      "text/plain": [
       "True"
      ]
     },
     "execution_count": 17,
     "metadata": {},
     "output_type": "execute_result"
    }
   ],
   "source": [
    " a==10 and b==20"
   ]
  },
  {
   "cell_type": "code",
   "execution_count": 18,
   "id": "6e7871ad",
   "metadata": {},
   "outputs": [
    {
     "data": {
      "text/plain": [
       "True"
      ]
     },
     "execution_count": 18,
     "metadata": {},
     "output_type": "execute_result"
    }
   ],
   "source": [
    "b==20"
   ]
  },
  {
   "cell_type": "code",
   "execution_count": 19,
   "id": "e13d4202",
   "metadata": {},
   "outputs": [
    {
     "data": {
      "text/plain": [
       "True"
      ]
     },
     "execution_count": 19,
     "metadata": {},
     "output_type": "execute_result"
    }
   ],
   "source": [
    "a==10"
   ]
  },
  {
   "cell_type": "code",
   "execution_count": 20,
   "id": "f3eb75e0",
   "metadata": {},
   "outputs": [
    {
     "data": {
      "text/plain": [
       "True"
      ]
     },
     "execution_count": 20,
     "metadata": {},
     "output_type": "execute_result"
    }
   ],
   "source": [
    "b<=20"
   ]
  },
  {
   "cell_type": "code",
   "execution_count": 21,
   "id": "8be4915d",
   "metadata": {},
   "outputs": [
    {
     "data": {
      "text/plain": [
       "True"
      ]
     },
     "execution_count": 21,
     "metadata": {},
     "output_type": "execute_result"
    }
   ],
   "source": [
    "a==10 and b<=20"
   ]
  },
  {
   "cell_type": "markdown",
   "id": "5ab8c99b",
   "metadata": {},
   "source": [
    "# OR Operation\n",
    "A B S\n",
    "0 0 0\n",
    "0 1 1\n",
    "1 0 1 \n",
    "1 1 1"
   ]
  },
  {
   "cell_type": "code",
   "execution_count": 23,
   "id": "6ae8bc86",
   "metadata": {},
   "outputs": [
    {
     "name": "stdout",
     "output_type": "stream",
     "text": [
      "this statement is valid\n"
     ]
    }
   ],
   "source": [
    "a = 10\n",
    "b = 20\n",
    "if a==10 or b>20:\n",
    "    print(\"this statement is valid\")\n",
    "elif a==10 and b<=20:\n",
    "    print(\"this statemnet is valid inside elif\")\n",
    "else :\n",
    "    print(\"this statement is not valid\")"
   ]
  },
  {
   "cell_type": "markdown",
   "id": "99df0879",
   "metadata": {},
   "source": [
    "Task:\n",
    "take a input from your keyborad as your first name and last name and then try to validate of wirte multiple condition by yourself "
   ]
  },
  {
   "cell_type": "code",
   "execution_count": 34,
   "id": "8fae2631",
   "metadata": {},
   "outputs": [
    {
     "name": "stdout",
     "output_type": "stream",
     "text": [
      "Enter firstname--muzamil\n",
      "Enter secondname--Khan\n",
      "Correct Name\n"
     ]
    }
   ],
   "source": [
    "a= (input(\"Enter firstname--\"))\n",
    "b= (input(\"Enter secondname--\"))\n",
    "if a== 'muzamil' and b=='Khan':\n",
    "    print(\"Correct Name\")\n",
    "else:\n",
    "    print(\"Incorrect Name\")"
   ]
  },
  {
   "cell_type": "markdown",
   "id": "fb13e476",
   "metadata": {},
   "source": [
    "# while loop"
   ]
  },
  {
   "cell_type": "code",
   "execution_count": 38,
   "id": "45b5ea3a",
   "metadata": {},
   "outputs": [
    {
     "name": "stdout",
     "output_type": "stream",
     "text": [
      "This Is MUZAMIL\n",
      "This Is MUZAMIL\n",
      "This Is MUZAMIL\n",
      "This Is MUZAMIL\n"
     ]
    }
   ],
   "source": [
    "    initial_speed = 0 \n",
    "    final_speed = 100\n",
    "    count = 1\n",
    "    while initial_speed < final_speed:\n",
    "        print(\"This Is MUZAMIL\")\n",
    "        count = count + 1\n",
    "        if count ==5:\n",
    "            break"
   ]
  },
  {
   "cell_type": "code",
   "execution_count": 3,
   "id": "78662452",
   "metadata": {},
   "outputs": [
    {
     "name": "stdout",
     "output_type": "stream",
     "text": [
      "9\n",
      "8\n",
      "7\n",
      "6\n",
      "5\n",
      "4\n",
      "3\n",
      "2\n"
     ]
    }
   ],
   "source": [
    "a= 1\n",
    "b= 9\n",
    "while a<b:\n",
    "    print(b)\n",
    "    b= b-1"
   ]
  },
  {
   "cell_type": "markdown",
   "id": "9830fdb1",
   "metadata": {},
   "source": [
    "# while else"
   ]
  },
  {
   "cell_type": "code",
   "execution_count": 2,
   "id": "dfe1ec5e",
   "metadata": {},
   "outputs": [
    {
     "name": "stdout",
     "output_type": "stream",
     "text": [
      "MY NAME IS MZUAMIL\n"
     ]
    }
   ],
   "source": [
    "a = 10\n",
    "b = 10\n",
    "while a<b:\n",
    "    print(\"nothing\")\n",
    "else:\n",
    "    print(\"MY NAME IS MZUAMIL\")"
   ]
  },
  {
   "cell_type": "code",
   "execution_count": 3,
   "id": "637dcb97",
   "metadata": {},
   "outputs": [
    {
     "name": "stdout",
     "output_type": "stream",
     "text": [
      "10\n",
      "9\n",
      "8\n",
      "yOU ARE THE CORRECT ONE\n"
     ]
    }
   ],
   "source": [
    "notes = 10\n",
    "i = 7\n",
    "while i < notes:\n",
    "    print(notes)\n",
    "    notes=notes-1\n",
    "else:\n",
    "    print(\"yOU ARE THE CORRECT ONE\")"
   ]
  },
  {
   "cell_type": "code",
   "execution_count": 6,
   "id": "e0e52789",
   "metadata": {},
   "outputs": [
    {
     "name": "stdout",
     "output_type": "stream",
     "text": [
      "1\n",
      "2\n",
      "3\n",
      "4\n",
      "5\n",
      "6\n",
      "7\n",
      "8\n",
      "9\n",
      "WELCOME TO MY WEBSITE\n"
     ]
    }
   ],
   "source": [
    "notes=10\n",
    "i=1\n",
    "j=1\n",
    "while i<notes:\n",
    "    print(i)\n",
    "    i=i+1\n",
    "else:\n",
    "    \n",
    "    while j==2:\n",
    "        print(j)\n",
    "        j=j+1\n",
    "    print(\"WELCOME TO MY WEBSITE\")"
   ]
  },
  {
   "cell_type": "markdown",
   "id": "38c934d8",
   "metadata": {},
   "source": [
    "In any language you will be able to find out the data structure >>>>you will able to find out the collection >>>> Collection are nothing but kind of the structure where i will be able to hold a multiple a different different khid of a data\n",
    "Again here inside a python you will able to find out the multiple different different kind of the collection where you try to hold the varity of a data\n",
    "> List\n",
    ">Set\n",
    ">duples\n",
    ">string"
   ]
  },
  {
   "cell_type": "code",
   "execution_count": null,
   "id": "52673173",
   "metadata": {},
   "outputs": [],
   "source": []
  }
 ],
 "metadata": {
  "kernelspec": {
   "display_name": "Python 3",
   "language": "python",
   "name": "python3"
  },
  "language_info": {
   "codemirror_mode": {
    "name": "ipython",
    "version": 3
   },
   "file_extension": ".py",
   "mimetype": "text/x-python",
   "name": "python",
   "nbconvert_exporter": "python",
   "pygments_lexer": "ipython3",
   "version": "3.8.8"
  }
 },
 "nbformat": 4,
 "nbformat_minor": 5
}
